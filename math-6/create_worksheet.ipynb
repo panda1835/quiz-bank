{
 "cells": [
  {
   "cell_type": "code",
   "execution_count": 2,
   "id": "a7b7830d",
   "metadata": {},
   "outputs": [],
   "source": [
    "import json\n",
    "\n",
    "# Load the JSON file\n",
    "with open(\"phep-cong-tru-hai-so-nguyen-4.json\", \"r\", encoding=\"utf-8\") as f:\n",
    "    quiz = json.load(f)\n",
    "\n",
    "questions = quiz[\"questions\"]\n",
    "# Create a Markdown worksheet\n",
    "with open(\"worksheet1.md\", \"w\", encoding=\"utf-8\") as f:\n",
    "    f.write(\"# Bài tập toán\\n\\n\")\n",
    "    f.write(\"Trình bày các bước thực hiện các phép tính sau.\\n\\n\")\n",
    "\n",
    "    for q in questions[:35]:\n",
    "        f.write(f\"**{q['question']}**\\n\\n\")\n",
    "        # f.write(f\"Đáp án: ___________\\n\\n\")\n",
    "        f.write(f\"Đáp án: {q['correctAnswer']}\\n\\n\")\n",
    "\n",
    "    for q in questions[35:]:\n",
    "        f.write(f\"**{q['question']}**\\n\\n\")\n",
    "        f.write(f\"Đáp án: {q['correctAnswer']}\\n\\n\")\n"
   ]
  }
 ],
 "metadata": {
  "kernelspec": {
   "display_name": "havepawsai",
   "language": "python",
   "name": "python3"
  },
  "language_info": {
   "codemirror_mode": {
    "name": "ipython",
    "version": 3
   },
   "file_extension": ".py",
   "mimetype": "text/x-python",
   "name": "python",
   "nbconvert_exporter": "python",
   "pygments_lexer": "ipython3",
   "version": "3.10.11"
  }
 },
 "nbformat": 4,
 "nbformat_minor": 5
}
